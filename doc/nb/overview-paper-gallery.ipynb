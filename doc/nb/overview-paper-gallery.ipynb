{
 "cells": [
  {
   "cell_type": "markdown",
   "metadata": {},
   "source": [
    "# Gallery for the Overview Paper\n",
    "\n",
    "The purpose of this notebook is to build a nice gallery of object images for the overview paper.\n",
    "\n",
    "For future reference: The notebook must be run from https://jupyter-dev.nersc.gov with the following (approximate) activation script:\n",
    "\n",
    "```bash\n",
    "#!/bin/bash                                                                                                           \n",
    "version=$1                                                                                                            \n",
    "connection_file=$2                                                                                                    \n",
    "\n",
    "desiconda_version=20170818-1.1.12-img                                                                                 \n",
    "module use /global/common/${NERSC_HOST}/contrib/desi/desiconda/$desiconda_version/modulefiles                         \n",
    "module load desiconda                                                                                                 \n",
    "\n",
    "export LEGACYPIPE_DIR=$SCRATCH/repos/legacypipe                                                                       \n",
    "\n",
    "export PATH=$LEGACYPIPE_DIR/bin:${PATH}                                                                               \n",
    "export PATH=$SCRATCH//repos/build/bin:$PATH                                                                           \n",
    "export PYTHONPATH=$LEGACYPIPE_DIR/py:${PYTHONPATH}                                                                    \n",
    "export PYTHONPATH=$SCRATCH/repos/build/lib/python3.5/site-packages:$PYTHONPATH                                        \n",
    "\n",
    "module use $LEGACYPIPE_DIR/bin/modulefiles/cori                                                                       \n",
    "module load dust                                                                                                      \n",
    "\n",
    "exec python -m ipykernel -f $connection_file\n",
    "```\n",
    "\n",
    "Some neat objects:\n",
    "* [Bow shock](http://legacysurvey.org/viewer?ra=325.6872&dec=1.0032&zoom=14&layer=decals-dr5)\n",
    "* [Abell 383](http://legacysurvey.org/viewer?ra=42.0141&dec=-3.5291&zoom=15&layer=decals-dr5)\n",
    "* [SDSS/C4-2010 Galaxy Cluster](http://legacysurvey.org/viewer?ra=29.0707&dec=1.0510&zoom=13&layer=decals-dr5)\n",
    "* [NGC2874 Group](http://legacysurvey.org/viewer?ra=141.4373&dec=11.4284&zoom=13&layer=decals-dr5)\n",
    "* [UGC10321 Group](http://legacysurvey.org/viewer?ra=244.5280&dec=21.5591&zoom=14&layer=decals-dr5)\n",
    "* [NGC6742 (PN)](http://legacysurvey.org/viewer/?layer=decals-dr6&ra=284.83291667&dec=48.46527778)"
   ]
  },
  {
   "cell_type": "markdown",
   "metadata": {},
   "source": [
    "### Imports and paths"
   ]
  },
  {
   "cell_type": "code",
   "execution_count": 1,
   "metadata": {},
   "outputs": [],
   "source": [
    "import os, sys\n",
    "import shutil, time, warnings\n",
    "from contextlib import redirect_stdout\n",
    "import numpy as np\n",
    "import matplotlib.pyplot as plt"
   ]
  },
  {
   "cell_type": "code",
   "execution_count": 2,
   "metadata": {},
   "outputs": [],
   "source": [
    "from astropy.table import Table, vstack\n",
    "from PIL import Image, ImageDraw, ImageFont"
   ]
  },
  {
   "cell_type": "code",
   "execution_count": 3,
   "metadata": {},
   "outputs": [],
   "source": [
    "import multiprocessing\n",
    "nproc = multiprocessing.cpu_count() // 2"
   ]
  },
  {
   "cell_type": "code",
   "execution_count": 4,
   "metadata": {},
   "outputs": [],
   "source": [
    "%matplotlib inline"
   ]
  },
  {
   "cell_type": "markdown",
   "metadata": {},
   "source": [
    "### Preliminaries\n",
    "\n",
    "Define the data release and the various output directories."
   ]
  },
  {
   "cell_type": "code",
   "execution_count": 17,
   "metadata": {},
   "outputs": [],
   "source": [
    "PIXSCALE = 0.262"
   ]
  },
  {
   "cell_type": "code",
   "execution_count": 5,
   "metadata": {},
   "outputs": [],
   "source": [
    "figdir = '/global/project/projectdirs/desi/users/ioannis/legacysurveys/overview-paper'\n",
    "figfile = os.path.join(figdir, 'gallery.fits')"
   ]
  },
  {
   "cell_type": "code",
   "execution_count": 7,
   "metadata": {},
   "outputs": [],
   "source": [
    "jpgdir = os.path.join(figdir, 'jpg')\n",
    "if not os.path.isdir(jpgdir):\n",
    "    os.mkdir(jpgdir)"
   ]
  },
  {
   "cell_type": "code",
   "execution_count": 8,
   "metadata": {},
   "outputs": [],
   "source": [
    "pngdir = os.path.join(figdir, 'png')\n",
    "if not os.path.isdir(pngdir):\n",
    "    os.mkdir(pngdir)"
   ]
  },
  {
   "cell_type": "markdown",
   "metadata": {},
   "source": [
    "#### Build a sample with the objects of interest."
   ]
  },
  {
   "cell_type": "code",
   "execution_count": 35,
   "metadata": {},
   "outputs": [
    {
     "data": {
      "text/html": [
       "&lt;Table length=6&gt;\n",
       "<table id=\"table47352396756920\" class=\"table-striped table-bordered table-condensed\">\n",
       "<thead><tr><th>name</th><th>nicename</th><th>viewer</th><th>dr</th><th>ra</th><th>dec</th><th>diam</th></tr></thead>\n",
       "<thead><tr><th>str9</th><th>str27</th><th>str88</th><th>str3</th><th>float64</th><th>float64</th><th>float32</th></tr></thead>\n",
       "<tr><td>NGC6742</td><td>NGC 6742 Planetary Nebula</td><td>http://legacysurvey.org/viewer/?layer=decals-dr6&amp;ra=284.83291667&amp;dec=48.46527778</td><td>dr6</td><td>284.83291667</td><td>48.46527778</td><td>1.5</td></tr>\n",
       "<tr><td>M92</td><td>Messier 92 Globular Cluster</td><td>http://legacysurvey.org/viewer/?layer=decals-dr6&amp;ra=259.28029167&amp;dec=43.13652778&amp;zoom=12</td><td>dr6</td><td>259.28029167</td><td>43.13652778</td><td>20.0</td></tr>\n",
       "<tr><td>Bow-Shock</td><td>Interstellar Bow Shock</td><td>http://legacysurvey.org/viewer?ra=325.6872&amp;dec=1.0032&amp;zoom=14&amp;layer=decals-dr5</td><td>dr7</td><td>325.6872</td><td>1.0032</td><td>4.0</td></tr>\n",
       "<tr><td>NGC2782</td><td>NGC 2782</td><td>http://legacysurvey.org/viewer/?layer=decals-dr6&amp;ra=138.52129167&amp;dec=40.11369444&amp;zoom=12</td><td>dr6</td><td>138.52129167</td><td>40.11369444</td><td>7.0</td></tr>\n",
       "<tr><td>UGC10321</td><td>UGC 10321 Galaxy Group</td><td>http://legacysurvey.org/viewer?ra=244.5280&amp;dec=21.5591&amp;zoom=14&amp;layer=decals-dr5</td><td>dr7</td><td>244.528</td><td>21.5591</td><td>3.0</td></tr>\n",
       "<tr><td>C4-2010</td><td>SDSS/C4 Galaxy Cluster 2010</td><td>http://legacysurvey.org/viewer?ra=29.0707&amp;dec=1.0510&amp;zoom=13&amp;layer=decals-dr5</td><td>dr7</td><td>29.070641492</td><td>1.050816667</td><td>5.0</td></tr>\n",
       "</table>"
      ],
      "text/plain": [
       "<Table length=6>\n",
       "   name             nicename          ...     dec       diam \n",
       "   str9              str27            ...   float64   float32\n",
       "--------- --------------------------- ... ----------- -------\n",
       "  NGC6742   NGC 6742 Planetary Nebula ... 48.46527778     1.5\n",
       "      M92 Messier 92 Globular Cluster ... 43.13652778    20.0\n",
       "Bow-Shock      Interstellar Bow Shock ...      1.0032     4.0\n",
       "  NGC2782                    NGC 2782 ... 40.11369444     7.0\n",
       " UGC10321      UGC 10321 Galaxy Group ...     21.5591     3.0\n",
       "  C4-2010 SDSS/C4 Galaxy Cluster 2010 ... 1.050816667     5.0"
      ]
     },
     "execution_count": 35,
     "metadata": {},
     "output_type": "execute_result"
    }
   ],
   "source": [
    "cat = Table()\n",
    "cat['name'] = (\n",
    "    'NGC6742',\n",
    "    'M92', \n",
    "    'Bow-Shock', \n",
    "    'NGC2782',\n",
    "    'UGC10321', \n",
    "    'C4-2010'\n",
    ")\n",
    "cat['nicename'] = (\n",
    "    'NGC 6742 Planetary Nebula',\n",
    "    'Messier 92 Globular Cluster', \n",
    "    'Interstellar Bow Shock', \n",
    "    'NGC 2782',\n",
    "    'UGC 10321 Galaxy Group', \n",
    "    'SDSS/C4 Galaxy Cluster 2010'\n",
    ")\n",
    "cat['viewer'] = (\n",
    "    'http://legacysurvey.org/viewer/?layer=decals-dr6&ra=284.83291667&dec=48.46527778',\n",
    "    'http://legacysurvey.org/viewer/?layer=decals-dr6&ra=259.28029167&dec=43.13652778&zoom=12',\n",
    "    'http://legacysurvey.org/viewer?ra=325.6872&dec=1.0032&zoom=14&layer=decals-dr5',         \n",
    "    'http://legacysurvey.org/viewer/?layer=decals-dr6&ra=138.52129167&dec=40.11369444&zoom=12',\n",
    "    'http://legacysurvey.org/viewer?ra=244.5280&dec=21.5591&zoom=14&layer=decals-dr5',\n",
    "    'http://legacysurvey.org/viewer?ra=29.0707&dec=1.0510&zoom=13&layer=decals-dr5'\n",
    ")\n",
    "cat['dr'] = (\n",
    "    'dr6',\n",
    "    'dr6', \n",
    "    'dr7',\n",
    "    'dr6',\n",
    "    'dr7', \n",
    "    'dr7'\n",
    ")\n",
    "cat['ra'] = (\n",
    "    284.83291667,\n",
    "    259.28029167, \n",
    "    325.6872, \n",
    "    138.52129167,\n",
    "    244.5280, \n",
    "    29.070641492\n",
    ")\n",
    "cat['dec'] = (\n",
    "    48.46527778,\n",
    "    43.13652778, \n",
    "    1.0032, \n",
    "    40.11369444,\n",
    "    21.5591, \n",
    "    1.050816667\n",
    ")\n",
    "cat['diam'] = np.array([\n",
    "    1.5,\n",
    "    20, \n",
    "    4, \n",
    "    7,\n",
    "    3, \n",
    "    5 \n",
    "]).astype('f4') # [arcmin]\n",
    "cat"
   ]
  },
  {
   "cell_type": "markdown",
   "metadata": {},
   "source": [
    "#### Some rejected objects."
   ]
  },
  {
   "cell_type": "code",
   "execution_count": 36,
   "metadata": {},
   "outputs": [
    {
     "data": {
      "text/html": [
       "&lt;Table length=2&gt;\n",
       "<table id=\"table47352396755632\" class=\"table-striped table-bordered table-condensed\">\n",
       "<thead><tr><th>name</th><th>nicename</th><th>viewer</th><th>dr</th><th>ra</th><th>dec</th><th>diam</th></tr></thead>\n",
       "<thead><tr><th>str8</th><th>str20</th><th>str79</th><th>str3</th><th>float64</th><th>float64</th><th>float32</th></tr></thead>\n",
       "<tr><td>Abell383</td><td>Abell 383</td><td>http://legacysurvey.org/viewer?ra=42.0141&amp;dec=-3.5291&amp;zoom=15&amp;layer=decals-dr5</td><td>dr5</td><td>42.0141</td><td>-3.5291</td><td>6.0</td></tr>\n",
       "<tr><td>NGC2874</td><td>NGC2874 Galaxy Group</td><td>http://legacysurvey.org/viewer?ra=141.4373&amp;dec=11.4284&amp;zoom=13&amp;layer=decals-dr5</td><td>dr5</td><td>141.44215</td><td>11.43696</td><td>6.0</td></tr>\n",
       "</table>"
      ],
      "text/plain": [
       "<Table length=2>\n",
       "  name         nicename       ...   dec      diam \n",
       "  str8          str20         ... float64  float32\n",
       "-------- -------------------- ... -------- -------\n",
       "Abell383            Abell 383 ...  -3.5291     6.0\n",
       " NGC2874 NGC2874 Galaxy Group ... 11.43696     6.0"
      ]
     },
     "execution_count": 36,
     "metadata": {},
     "output_type": "execute_result"
    }
   ],
   "source": [
    "toss = Table()\n",
    "toss['name'] = (\n",
    "    'Abell383', \n",
    "    'NGC2874'\n",
    ")\n",
    "toss['nicename'] = (\n",
    "    'Abell 383', \n",
    "    'NGC2874 Galaxy Group'\n",
    ")\n",
    "toss['viewer'] = (\n",
    "    'http://legacysurvey.org/viewer?ra=42.0141&dec=-3.5291&zoom=15&layer=decals-dr5',\n",
    "    'http://legacysurvey.org/viewer?ra=141.4373&dec=11.4284&zoom=13&layer=decals-dr5'\n",
    ")\n",
    "toss['dr'] = (\n",
    "    'dr5', # Abell 383\n",
    "    'dr5'  # C4 cluster\n",
    ")\n",
    "toss['ra'] = (\n",
    "    42.0141, \n",
    "    141.44215000\n",
    ")\n",
    "toss['dec'] = (\n",
    "    -3.5291, \n",
    "    11.43696000\n",
    ")\n",
    "toss['diam'] = np.array([\n",
    "    6, \n",
    "    6\n",
    "]).astype('f4') # [arcmin]\n",
    "toss"
   ]
  },
  {
   "cell_type": "markdown",
   "metadata": {},
   "source": [
    "### Ensure all objects are in the DR6+DR7 footprint before building coadds."
   ]
  },
  {
   "cell_type": "code",
   "execution_count": 37,
   "metadata": {},
   "outputs": [],
   "source": [
    "def init_survey(dr='dr7'):\n",
    "    from legacypipe.survey import LegacySurveyData\n",
    "    \n",
    "    if dr == 'dr7':\n",
    "        survey = LegacySurveyData(\n",
    "            survey_dir='/global/project/projectdirs/cosmo/work/legacysurvey/dr7',\n",
    "            output_dir=figdir)\n",
    "    else:\n",
    "        survey = LegacySurveyData(\n",
    "            survey_dir='/global/project/projectdirs/cosmo/work/legacysurvey/dr6',\n",
    "            output_dir=figdir)\n",
    "    \n",
    "    return survey"
   ]
  },
  {
   "cell_type": "code",
   "execution_count": 38,
   "metadata": {},
   "outputs": [],
   "source": [
    "def simple_wcs(obj):\n",
    "    \"\"\"Build a simple WCS object for a single object.\"\"\"\n",
    "    from astrometry.util.util import Tan\n",
    "    \n",
    "    size = np.rint(obj['diam'] * 60 / PIXSCALE).astype('int') # [pixels]\n",
    "    wcs = Tan(obj['ra'], obj['dec'], size/2+0.5, size/2+0.5,\n",
    "                 -PIXSCALE/3600.0, 0.0, 0.0, PIXSCALE/3600.0, \n",
    "                 float(size), float(size))\n",
    "    return wcs"
   ]
  },
  {
   "cell_type": "code",
   "execution_count": 39,
   "metadata": {},
   "outputs": [],
   "source": [
    "def _build_sample_one(args):\n",
    "    \"\"\"Wrapper function for the multiprocessing.\"\"\"\n",
    "    return build_sample_one(*args)"
   ]
  },
  {
   "cell_type": "code",
   "execution_count": 40,
   "metadata": {},
   "outputs": [],
   "source": [
    "def build_sample_one(obj, verbose=False):\n",
    "    \"\"\"Wrapper function to find overlapping grz CCDs for a given object.\n",
    "    \n",
    "    \"\"\"\n",
    "    survey = init_survey(dr=obj['dr'])\n",
    "    \n",
    "    print('Working on {}...'.format(obj['name']))\n",
    "    wcs = simple_wcs(obj)\n",
    "    try:\n",
    "        ccds = survey.ccds_touching_wcs(wcs) # , ccdrad=2*diam/3600)\n",
    "    except:\n",
    "        return None\n",
    "    \n",
    "    if ccds:\n",
    "        # Is there 3-band coverage?\n",
    "        if 'g' in ccds.filter and 'r' in ccds.filter and 'z' in ccds.filter:\n",
    "            if verbose:\n",
    "                print('For {} found {} CCDs, RA = {:.5f}, Dec = {:.5f}, Diameter={:.4f} arcmin'.format(\n",
    "                        obj['name'], len(ccds), obj['ra'], obj['dec'], obj['diam']))\n",
    "            return obj\n",
    "    return None"
   ]
  },
  {
   "cell_type": "code",
   "execution_count": 41,
   "metadata": {},
   "outputs": [],
   "source": [
    "def build_sample(cat, use_nproc=nproc):\n",
    "    \"\"\"Build the full sample with grz coverage in DR6.\"\"\"\n",
    "\n",
    "    sampleargs = list()\n",
    "    for cc in cat:\n",
    "        sampleargs.append( (cc, True) ) # the False refers to verbose=False\n",
    "\n",
    "    if use_nproc > 1:\n",
    "        p = multiprocessing.Pool(nproc)\n",
    "        result = p.map(_build_sample_one, sampleargs)\n",
    "        p.close()\n",
    "    else:\n",
    "        result = list()\n",
    "        for args in sampleargs:\n",
    "            result.append(_build_sample_one(args))\n",
    "\n",
    "    # Remove non-matching objects and write out the sample\n",
    "    outcat = vstack(list(filter(None, result)))\n",
    "    print('Found {}/{} objects in the DR6+DR7 footprint.'.format(len(outcat), len(cat)))\n",
    "    \n",
    "    return outcat"
   ]
  },
  {
   "cell_type": "code",
   "execution_count": 42,
   "metadata": {},
   "outputs": [
    {
     "name": "stdout",
     "output_type": "stream",
     "text": [
      "Working on NGC6742...\n",
      "For NGC6742 found 7 CCDs, RA = 284.83292, Dec = 48.46528, Diameter=1.5000 arcmin\n",
      "Working on M92...\n",
      "For M92 found 33 CCDs, RA = 259.28029, Dec = 43.13653, Diameter=20.0000 arcmin\n",
      "Working on Bow-Shock...\n",
      "For Bow-Shock found 85 CCDs, RA = 325.68720, Dec = 1.00320, Diameter=4.0000 arcmin\n",
      "Working on NGC2782...\n",
      "For NGC2782 found 13 CCDs, RA = 138.52129, Dec = 40.11369, Diameter=7.0000 arcmin\n",
      "Working on UGC10321...\n",
      "For UGC10321 found 21 CCDs, RA = 244.52800, Dec = 21.55910, Diameter=3.0000 arcmin\n",
      "Working on C4-2010...\n",
      "For C4-2010 found 46 CCDs, RA = 29.07064, Dec = 1.05082, Diameter=5.0000 arcmin\n",
      "Found 6/6 objects in the DR6+DR7 footprint.\n"
     ]
    }
   ],
   "source": [
    "sample = build_sample(cat, use_nproc=1)"
   ]
  },
  {
   "cell_type": "code",
   "execution_count": 43,
   "metadata": {},
   "outputs": [
    {
     "name": "stdout",
     "output_type": "stream",
     "text": [
      "Writing /global/project/projectdirs/desi/users/ioannis/legacysurveys/overview-paper/gallery.fits\n"
     ]
    }
   ],
   "source": [
    "print('Writing {}'.format(figfile))\n",
    "sample.write(figfile, overwrite=True)"
   ]
  },
  {
   "cell_type": "code",
   "execution_count": 44,
   "metadata": {},
   "outputs": [
    {
     "data": {
      "text/html": [
       "&lt;Table length=6&gt;\n",
       "<table id=\"table47352397284016\" class=\"table-striped table-bordered table-condensed\">\n",
       "<thead><tr><th>name</th><th>nicename</th><th>viewer</th><th>dr</th><th>ra</th><th>dec</th><th>diam</th></tr></thead>\n",
       "<thead><tr><th>str9</th><th>str27</th><th>str88</th><th>str3</th><th>float64</th><th>float64</th><th>float32</th></tr></thead>\n",
       "<tr><td>NGC6742</td><td>NGC 6742 Planetary Nebula</td><td>http://legacysurvey.org/viewer/?layer=decals-dr6&amp;ra=284.83291667&amp;dec=48.46527778</td><td>dr6</td><td>284.83291667</td><td>48.46527778</td><td>1.5</td></tr>\n",
       "<tr><td>M92</td><td>Messier 92 Globular Cluster</td><td>http://legacysurvey.org/viewer/?layer=decals-dr6&amp;ra=259.28029167&amp;dec=43.13652778&amp;zoom=12</td><td>dr6</td><td>259.28029167</td><td>43.13652778</td><td>20.0</td></tr>\n",
       "<tr><td>Bow-Shock</td><td>Interstellar Bow Shock</td><td>http://legacysurvey.org/viewer?ra=325.6872&amp;dec=1.0032&amp;zoom=14&amp;layer=decals-dr5</td><td>dr7</td><td>325.6872</td><td>1.0032</td><td>4.0</td></tr>\n",
       "<tr><td>NGC2782</td><td>NGC 2782</td><td>http://legacysurvey.org/viewer/?layer=decals-dr6&amp;ra=138.52129167&amp;dec=40.11369444&amp;zoom=12</td><td>dr6</td><td>138.52129167</td><td>40.11369444</td><td>7.0</td></tr>\n",
       "<tr><td>UGC10321</td><td>UGC 10321 Galaxy Group</td><td>http://legacysurvey.org/viewer?ra=244.5280&amp;dec=21.5591&amp;zoom=14&amp;layer=decals-dr5</td><td>dr7</td><td>244.528</td><td>21.5591</td><td>3.0</td></tr>\n",
       "<tr><td>C4-2010</td><td>SDSS/C4 Galaxy Cluster 2010</td><td>http://legacysurvey.org/viewer?ra=29.0707&amp;dec=1.0510&amp;zoom=13&amp;layer=decals-dr5</td><td>dr7</td><td>29.070641492</td><td>1.050816667</td><td>5.0</td></tr>\n",
       "</table>"
      ],
      "text/plain": [
       "<Table length=6>\n",
       "   name             nicename          ...     dec       diam \n",
       "   str9              str27            ...   float64   float32\n",
       "--------- --------------------------- ... ----------- -------\n",
       "  NGC6742   NGC 6742 Planetary Nebula ... 48.46527778     1.5\n",
       "      M92 Messier 92 Globular Cluster ... 43.13652778    20.0\n",
       "Bow-Shock      Interstellar Bow Shock ...      1.0032     4.0\n",
       "  NGC2782                    NGC 2782 ... 40.11369444     7.0\n",
       " UGC10321      UGC 10321 Galaxy Group ...     21.5591     3.0\n",
       "  C4-2010 SDSS/C4 Galaxy Cluster 2010 ... 1.050816667     5.0"
      ]
     },
     "execution_count": 44,
     "metadata": {},
     "output_type": "execute_result"
    }
   ],
   "source": [
    "sample"
   ]
  },
  {
   "cell_type": "markdown",
   "metadata": {},
   "source": [
    "### Generate the color mosaics for each object."
   ]
  },
  {
   "cell_type": "code",
   "execution_count": 49,
   "metadata": {},
   "outputs": [],
   "source": [
    "def custom_brickname(obj, prefix='custom-'): \n",
    "    brickname = 'custom-{:06d}{}{:05d}'.format(\n",
    "        int(1000*obj['ra']), 'm' if obj['dec'] < 0 else 'p', \n",
    "        int(1000*np.abs(obj['dec'])))\n",
    "    return brickname"
   ]
  },
  {
   "cell_type": "code",
   "execution_count": 50,
   "metadata": {},
   "outputs": [],
   "source": [
    "def custom_coadds_one(obj, scale=PIXSCALE, clobber=False):\n",
    "    from legacypipe.runbrick import run_brick\n",
    "    #from astrometry.util.multiproc import multiproc\n",
    "    #from legacypipe.runbrick import stage_tims, run_brick\n",
    "    #from legacypipe.coadds import make_coadds\n",
    "\n",
    "    name = obj['name']\n",
    "    jpgfile = os.path.join(jpgdir, '{}.jpg'.format(name))\n",
    "    if os.path.isfile(jpgfile) and not clobber:\n",
    "        print('File {} exists...skipping.'.format(jpgfile))\n",
    "    else:\n",
    "        size = np.rint(obj['diam'] * 60 / scale).astype('int') # [pixels]\n",
    "        print('Generating mosaic for {} with width={} pixels.'.format(name, size))\n",
    "        \n",
    "        bands = ('g', 'r', 'z')\n",
    "        if 'Bow' in name:\n",
    "            rgb_kwargs = dict({'Q': 200, 'm': 0.01})\n",
    "        else:\n",
    "            rgb_kwargs = dict({'Q': 20, 'm': 0.03})\n",
    "            \n",
    "        survey = init_survey(dr=obj['dr'])\n",
    "        brickname = custom_brickname(obj, prefix='custom-')\n",
    "        \n",
    "        with warnings.catch_warnings():\n",
    "            warnings.simplefilter(\"ignore\")\n",
    "            run_brick(None, survey, radec=(obj['ra'], obj['dec']), pixscale=scale, \n",
    "                      width=size, height=size, rgb_kwargs=rgb_kwargs, threads=nproc, \n",
    "                      stages=['image_coadds'], splinesky=True, early_coadds=True, pixPsf=True, \n",
    "                      hybridPsf=True, normalizePsf=True, write_pickles=False, depth_cut=False, \n",
    "                      apodize=True, do_calibs=False, ceres=False)\n",
    "\n",
    "        sys.stdout.flush()    \n",
    "        _jpgfile = os.path.join(survey.output_dir, 'coadd', 'cus', brickname, \n",
    "                               'legacysurvey-{}-image.jpg'.format(brickname))\n",
    "        shutil.copy(_jpgfile, jpgfile)\n",
    "        shutil.rmtree(os.path.join(survey.output_dir, 'coadd'))"
   ]
  },
  {
   "cell_type": "code",
   "execution_count": 51,
   "metadata": {},
   "outputs": [],
   "source": [
    "#custom_coadds_one(sample[2], clobber=True)"
   ]
  },
  {
   "cell_type": "code",
   "execution_count": 52,
   "metadata": {},
   "outputs": [],
   "source": [
    "def custom_coadds(sample, clobber=False):\n",
    "    for obj in sample:\n",
    "        custom_coadds_one(obj, clobber=clobber)"
   ]
  },
  {
   "cell_type": "code",
   "execution_count": 53,
   "metadata": {},
   "outputs": [
    {
     "name": "stdout",
     "output_type": "stream",
     "text": [
      "Generating the coadds.\n",
      "Logging to /global/project/projectdirs/desi/users/ioannis/legacysurveys/overview-paper/make-coadds.log\n",
      "Total time = 2.502 minutes.\n"
     ]
    }
   ],
   "source": [
    "coaddslogfile = os.path.join(figdir, 'make-coadds.log')\n",
    "print('Generating the coadds.')\n",
    "print('Logging to {}'.format(coaddslogfile))\n",
    "t0 = time.time()\n",
    "with open(coaddslogfile, 'w') as log:\n",
    "    with redirect_stdout(log):\n",
    "        custom_coadds(sample, clobber=True)\n",
    "print('Total time = {:.3f} minutes.'.format((time.time() - t0) / 60))"
   ]
  },
  {
   "cell_type": "markdown",
   "metadata": {},
   "source": [
    "### Add labels and a scale bar."
   ]
  },
  {
   "cell_type": "code",
   "execution_count": 54,
   "metadata": {},
   "outputs": [],
   "source": [
    "barlen = np.round(60.0 / PIXSCALE).astype('int')\n",
    "fonttype = os.path.join(figdir, 'Georgia.ttf')"
   ]
  },
  {
   "cell_type": "code",
   "execution_count": 55,
   "metadata": {},
   "outputs": [],
   "source": [
    "def _add_labels_one(args):\n",
    "    \"\"\"Wrapper function for the multiprocessing.\"\"\"\n",
    "    return add_labels_one(*args)"
   ]
  },
  {
   "cell_type": "code",
   "execution_count": 56,
   "metadata": {},
   "outputs": [],
   "source": [
    "def add_labels_one(obj, verbose=False):\n",
    "    name = obj['name']\n",
    "    nicename = obj['nicename']\n",
    "    \n",
    "    jpgfile = os.path.join(jpgdir, '{}.jpg'.format(name))\n",
    "    pngfile = os.path.join(pngdir, '{}.png'.format(name))\n",
    "    thumbfile = os.path.join(pngdir, 'thumb-{}.png'.format(name))\n",
    "        \n",
    "    im = Image.open(jpgfile)\n",
    "    sz = im.size\n",
    "    fntsize = np.round(sz[0]/28).astype('int')\n",
    "    width = np.round(sz[0]/175).astype('int')\n",
    "    font = ImageFont.truetype(fonttype, size=fntsize)\n",
    "    draw = ImageDraw.Draw(im)\n",
    "    # Label the object name--\n",
    "    draw.text((0+fntsize*2, 0+fntsize*2), nicename, font=font)\n",
    "    # Add a scale bar--\n",
    "    x0, x1, yy = sz[1]-fntsize*2-barlen, sz[1]-fntsize*2, sz[0]-fntsize*2\n",
    "    draw.line((x0, yy, x1, yy), fill='white', width=width)\n",
    "    im.save(pngfile)    \n",
    "        \n",
    "    # Generate a thumbnail\n",
    "    if False:\n",
    "        cmd = '/usr/bin/convert -thumbnail 300x300 {} {}'.format(pngfile, thumbfile)\n",
    "        os.system(cmd)"
   ]
  },
  {
   "cell_type": "code",
   "execution_count": 57,
   "metadata": {},
   "outputs": [],
   "source": [
    "def add_labels(sample):\n",
    "    labelargs = list()\n",
    "    for obj in sample:\n",
    "        labelargs.append((obj, False))\n",
    "\n",
    "    if nproc > 1:\n",
    "        p = multiprocessing.Pool(nproc)\n",
    "        res = p.map(_add_labels_one, labelargs)\n",
    "        p.close()\n",
    "    else:\n",
    "        for args in labelargs:\n",
    "            res = _add_labels_one(args)"
   ]
  },
  {
   "cell_type": "code",
   "execution_count": 59,
   "metadata": {},
   "outputs": [
    {
     "name": "stdout",
     "output_type": "stream",
     "text": [
      "CPU times: user 73.6 ms, sys: 940 ms, total: 1.01 s\n",
      "Wall time: 4.86 s\n"
     ]
    }
   ],
   "source": [
    "%time add_labels(sample)"
   ]
  },
  {
   "cell_type": "markdown",
   "metadata": {},
   "source": [
    "### Finally make a nice montage figure for the paper."
   ]
  },
  {
   "cell_type": "code",
   "execution_count": 60,
   "metadata": {},
   "outputs": [],
   "source": [
    "def make_montage(cat, clobber=False):\n",
    "    montagefile = os.path.join(figdir, 'overview-gallery.png')\n",
    "\n",
    "    ncol = 3\n",
    "    nrow = np.ceil(len(sample) / ncol).astype('int')\n",
    "    \n",
    "    if not os.path.isfile(montagefile) or clobber:\n",
    "        cmd = 'montage -bordercolor white -borderwidth 1 -tile {}x{} -geometry 512x512 '.format(ncol, nrow)\n",
    "        cmd = cmd+' '.join([os.path.join(pngdir, '{}.png'.format(name)) for name in cat['name']])\n",
    "        cmd = cmd+' {}'.format(montagefile)\n",
    "        print(cmd)\n",
    "        os.system(cmd)        \n",
    "        print('Writing {}'.format(montagefile))"
   ]
  },
  {
   "cell_type": "code",
   "execution_count": 61,
   "metadata": {},
   "outputs": [
    {
     "name": "stdout",
     "output_type": "stream",
     "text": [
      "montage -bordercolor white -borderwidth 1 -tile 3x2 -geometry 512x512 /global/project/projectdirs/desi/users/ioannis/legacysurveys/overview-paper/png/NGC6742.png /global/project/projectdirs/desi/users/ioannis/legacysurveys/overview-paper/png/M92.png /global/project/projectdirs/desi/users/ioannis/legacysurveys/overview-paper/png/Bow-Shock.png /global/project/projectdirs/desi/users/ioannis/legacysurveys/overview-paper/png/NGC2782.png /global/project/projectdirs/desi/users/ioannis/legacysurveys/overview-paper/png/UGC10321.png /global/project/projectdirs/desi/users/ioannis/legacysurveys/overview-paper/png/C4-2010.png /global/project/projectdirs/desi/users/ioannis/legacysurveys/overview-paper/overview-gallery.png\n",
      "Writing /global/project/projectdirs/desi/users/ioannis/legacysurveys/overview-paper/overview-gallery.png\n",
      "CPU times: user 36.2 ms, sys: 107 ms, total: 143 ms\n",
      "Wall time: 3.92 s\n"
     ]
    }
   ],
   "source": [
    "%time make_montage(cat, clobber=True)"
   ]
  },
  {
   "cell_type": "code",
   "execution_count": null,
   "metadata": {},
   "outputs": [],
   "source": []
  }
 ],
 "metadata": {
  "anaconda-cloud": {},
  "kernelspec": {
   "display_name": "legacypipe master",
   "language": "python",
   "name": "legacypipe-master"
  },
  "language_info": {
   "codemirror_mode": {
    "name": "ipython",
    "version": 3
   },
   "file_extension": ".py",
   "mimetype": "text/x-python",
   "name": "python",
   "nbconvert_exporter": "python",
   "pygments_lexer": "ipython3",
   "version": "3.6.5"
  }
 },
 "nbformat": 4,
 "nbformat_minor": 2
}
