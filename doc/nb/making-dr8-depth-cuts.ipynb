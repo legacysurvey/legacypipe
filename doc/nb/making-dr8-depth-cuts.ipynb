{
 "cells": [
  {
   "cell_type": "markdown",
   "metadata": {},
   "source": [
    "# Applying depth cuts to CCD files for DR8"
   ]
  },
  {
   "cell_type": "markdown",
   "metadata": {},
   "source": [
    "I (Adam Myers) have not tested these instructions, I'm merely relating something Dustin Lang wrote in an email so that it's recorded for posterity."
   ]
  },
  {
   "cell_type": "markdown",
   "metadata": {},
   "source": [
    "## Making depth cuts for DR8"
   ]
  },
  {
   "cell_type": "markdown",
   "metadata": {},
   "source": [
    "The script for making depth cuts is `legacyanalysis/depth-cut.py`, and the `legacyanalysis/depthcut.sh` script can be used to set environment variables and give it args.  That script will need to be edited with appropriate input and output paths.  This gets run on each brick, producing a `ccds-BRICK.fits` file for each brick.  Running it on each brick can be done using qdo. For more information on using qdo to process bricks see, e.g., [Martin Landriau's cookbook](https://github.com/legacysurvey/legacypipe/blob/master/doc/cookbook.md) or [Adam Myers' tutorial](https://github.com/legacysurvey/legacypipe/blob/master/doc/nb/running-dr8-test-bricks-with-docker.ipynb).\n",
    "\n",
    "After that finishes for each brick (this takes some time....), run the `legacyanalysis/depth-cut-dr8.py` script (again, modifying paths appropriately). The other \"secret\" step is converting the `survey-ccds.fits` files into the KD-tree-ified files using the `legacypipe/create_kdtrees.py` script.\n",
    "\n",
    "Further details, taken from the header of [the depth cut script](https://github.com/legacysurvey/legacypipe/blob/master/py/legacyanalysis/depth-cut-dr8.py#L10):\n",
    "\n",
    "```\n",
    "Start with CCDs tables / zeropoints files.\n",
    "Create survey-ccd-*.kd.fits files via\n",
    "  python legacypipe/create-kdtrees.py\n",
    "\n",
    "Create $CSCRATCH/dr8new containing:\n",
    "calib\n",
    "images\n",
    "survey-bricks.fits.gz\n",
    "survey-ccds-decam-g.kd.fits\n",
    "survey-ccds-decam-r.kd.fits\n",
    "survey-ccds-decam-z.kd.fits\n",
    "\n",
    "Create \"depthcut\" qdo queue:\n",
    "LEGACY_SURVEY_DIR=$CSCRATCH/dr8new python -u legacypipe/queue-calibs.py --region dr8-decam > bricks-decam.txt\n",
    "\n",
    "(hand-edit off the first few chatter lines)\n",
    "\n",
    "qdo load depthcut bricks-decam.txt\n",
    "\n",
    "Run \"depth-cut.py\" on each brick:\n",
    "QDO_BATCH_PROFILE=cori-shifter qdo launch -v depthcut 32 --cores_per_worker 1 --walltime=30:00 --batchqueue=debug --keep_env --batchopts \"--image=docker:dstndstn/legacypipe:intel\" --script \"/src/legacypipe/py/legacyanalysis/depthcut.sh\"\n",
    "```\n",
    "Then run [the depth cut script](https://github.com/legacysurvey/legacypipe/blob/master/py/legacyanalysis/depth-cut-dr8.py#L10) itself.\n",
    "\n",
    "\n",
    "\n",
    "\n"
   ]
  },
  {
   "cell_type": "markdown",
   "metadata": {},
   "source": [
    "## Making depth cuts in the context of a full processing run"
   ]
  },
  {
   "cell_type": "markdown",
   "metadata": {},
   "source": [
    "To summarize all of the steps needed to create calibration files and to use those files to process bricks:\n",
    "\n",
    "- `legacyzpts/legacy_zeropoints.py` takes filename to `*-legacypipe.fits` files.\n",
    "- `legacyzpts/legacy_zeropoints_merge.py` takes a set of `*-legacypipe.fits` files to a `survey-ccds.fits` file.\n",
    "- `legacypipe/create_kdtrees.py` takes `survey-ccds.fits` to `survey-ccds-init.kd.fits`.\n",
    "- build an initial `LEGACY_SURVEY_DIR` containing that `survey-ccds-init.kd.fits`.\n",
    "- `legacypipe/queue-calibs.py` creates a list of bricks (eg to feed qdo).\n",
    "- `legacyanalysis/depthcut.sh` takes bricks to `ccds-BRICK.fits` files.\n",
    "- `legacyanalysis/depth-cut-dr8.py` takes all the `ccds-BRICK.fits` files to a `survey-ccds-depthcut.fits` file.\n",
    "- `legacypipe/create_kdtrees.py` takes that `survey-ccds-depthcut.fits` file to `survey-ccds-depthcut.kd.fits`.\n",
    "- create a final `LEGACY_SURVEY_DIR` containing that new `survey-ccds-depthcut.kd.fits`.\n",
    "- `legacypipe/runbrick.py` on all bricks (see [this notebook](https://github.com/legacysurvey/legacypipe/blob/master/doc/nb/running-dr8-test-bricks-with-docker.ipynb))."
   ]
  }
 ],
 "metadata": {
  "kernelspec": {
   "display_name": "DESI development",
   "language": "python",
   "name": "desi-development"
  },
  "language_info": {
   "codemirror_mode": {
    "name": "ipython",
    "version": 3
   },
   "file_extension": ".py",
   "mimetype": "text/x-python",
   "name": "python",
   "nbconvert_exporter": "python",
   "pygments_lexer": "ipython3",
   "version": "3.6.6"
  }
 },
 "nbformat": 4,
 "nbformat_minor": 2
}
