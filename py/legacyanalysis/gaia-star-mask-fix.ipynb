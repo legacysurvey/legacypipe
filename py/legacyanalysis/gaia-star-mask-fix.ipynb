{
 "cells": [
  {
   "cell_type": "code",
   "execution_count": 2,
   "metadata": {},
   "outputs": [],
   "source": [
    "%matplotlib inline\n",
    "import os\n",
    "import sys\n",
    "import pylab as plt\n",
    "import numpy as np\n",
    "from glob import glob\n",
    "import fitsio\n",
    "from collections import Counter"
   ]
  },
  {
   "cell_type": "code",
   "execution_count": 3,
   "metadata": {},
   "outputs": [],
   "source": [
    "from astrometry.util.fits import *\n",
    "from astrometry.util.util import *\n",
    "from astrometry.libkd.spherematch import match_radec\n",
    "from tractor import *\n",
    "from astrometry.util.starutil_numpy import *"
   ]
  },
  {
   "cell_type": "code",
   "execution_count": 4,
   "metadata": {},
   "outputs": [],
   "source": [
    "sys.path.insert(0, '/global/u1/d/dstn/legacypipe/py')"
   ]
  },
  {
   "cell_type": "code",
   "execution_count": 5,
   "metadata": {},
   "outputs": [],
   "source": [
    "from legacypipe.format_catalog import get_units_for_columns"
   ]
  },
  {
   "cell_type": "code",
   "execution_count": 6,
   "metadata": {},
   "outputs": [],
   "source": [
    "G = fits_table('/global/cscratch1/sd/dstn/gaia-mask-dr10.fits')"
   ]
  },
  {
   "cell_type": "code",
   "execution_count": 7,
   "metadata": {},
   "outputs": [
    {
     "data": {
      "text/plain": [
       "Counter({0: 36143736})"
      ]
     },
     "execution_count": 7,
     "metadata": {},
     "output_type": "execute_result"
    }
   ],
   "source": [
    "Counter(G.isgalaxy)"
   ]
  },
  {
   "cell_type": "code",
   "execution_count": 8,
   "metadata": {},
   "outputs": [],
   "source": [
    "G.delete_column('isgalaxy')"
   ]
  },
  {
   "cell_type": "code",
   "execution_count": 9,
   "metadata": {},
   "outputs": [
    {
     "data": {
      "text/plain": [
       "(9658, 9658, 9658)"
      ]
     },
     "execution_count": 9,
     "metadata": {},
     "output_type": "execute_result"
    }
   ],
   "source": [
    "np.sum(G.jmag != 0), np.sum(G.hmag != 0), np.sum(G.kmag != 0)"
   ]
  },
  {
   "cell_type": "code",
   "execution_count": 10,
   "metadata": {},
   "outputs": [],
   "source": [
    "G.delete_column('jmag')\n",
    "G.delete_column('hmag')\n",
    "G.delete_column('kmag')"
   ]
  },
  {
   "cell_type": "code",
   "execution_count": 11,
   "metadata": {},
   "outputs": [
    {
     "data": {
      "text/plain": [
       "(-1.3516648, 21.548058)"
      ]
     },
     "execution_count": 11,
     "metadata": {},
     "output_type": "execute_result"
    }
   ],
   "source": [
    "np.nanmin(G.zguess), np.nanmax(G.zguess)"
   ]
  },
  {
   "cell_type": "code",
   "execution_count": 12,
   "metadata": {},
   "outputs": [
    {
     "data": {
      "text/plain": [
       "36142135"
      ]
     },
     "execution_count": 12,
     "metadata": {},
     "output_type": "execute_result"
    }
   ],
   "source": [
    "np.sum(np.isfinite(G.zguess))"
   ]
  },
  {
   "cell_type": "code",
   "execution_count": 13,
   "metadata": {},
   "outputs": [
    {
     "data": {
      "text/plain": [
       "Counter({'GE': 36134078, 'T2': 9658})"
      ]
     },
     "execution_count": 13,
     "metadata": {},
     "output_type": "execute_result"
    }
   ],
   "source": [
    "Counter(G.ref_cat)"
   ]
  },
  {
   "cell_type": "code",
   "execution_count": null,
   "metadata": {},
   "outputs": [
    {
     "name": "stderr",
     "output_type": "stream",
     "text": [
      "ERROR:root:Invalid alias: The name clear can't be aliased because it is another magic command.\n",
      "ERROR:root:Invalid alias: The name more can't be aliased because it is another magic command.\n",
      "ERROR:root:Invalid alias: The name less can't be aliased because it is another magic command.\n",
      "ERROR:root:Invalid alias: The name man can't be aliased because it is another magic command.\n"
     ]
    }
   ],
   "source": [
    "#plt.plot(G.mag, G.mask_mag, 'b.');"
   ]
  },
  {
   "cell_type": "code",
   "execution_count": 14,
   "metadata": {},
   "outputs": [
    {
     "data": {
      "text/plain": [
       "Counter({False: 34503478, True: 1640258})"
      ]
     },
     "execution_count": 14,
     "metadata": {},
     "output_type": "execute_result"
    }
   ],
   "source": [
    "Counter(G.istycho)"
   ]
  },
  {
   "cell_type": "code",
   "execution_count": 15,
   "metadata": {},
   "outputs": [
    {
     "data": {
      "text/plain": [
       "Counter({True: 36143439, False: 297})"
      ]
     },
     "execution_count": 15,
     "metadata": {},
     "output_type": "execute_result"
    }
   ],
   "source": [
    "Counter(G.ismedium)"
   ]
  },
  {
   "cell_type": "code",
   "execution_count": 16,
   "metadata": {},
   "outputs": [
    {
     "data": {
      "text/plain": [
       "Counter({True: 4229463, False: 31914273})"
      ]
     },
     "execution_count": 16,
     "metadata": {},
     "output_type": "execute_result"
    }
   ],
   "source": [
    "Counter(G.isbright)"
   ]
  },
  {
   "cell_type": "code",
   "execution_count": 17,
   "metadata": {},
   "outputs": [
    {
     "data": {
      "text/plain": [
       "Counter({False: 36142276, True: 1460})"
      ]
     },
     "execution_count": 17,
     "metadata": {},
     "output_type": "execute_result"
    }
   ],
   "source": [
    "Counter(G.donotfit)"
   ]
  },
  {
   "cell_type": "code",
   "execution_count": 18,
   "metadata": {},
   "outputs": [
    {
     "data": {
      "text/plain": [
       "Counter({True: 36134078, False: 9658})"
      ]
     },
     "execution_count": 18,
     "metadata": {},
     "output_type": "execute_result"
    }
   ],
   "source": [
    "Counter(G.source_id == G.ref_id)"
   ]
  },
  {
   "cell_type": "code",
   "execution_count": 19,
   "metadata": {},
   "outputs": [
    {
     "data": {
      "text/plain": [
       "Counter({False: 36134078, True: 9658})"
      ]
     },
     "execution_count": 19,
     "metadata": {},
     "output_type": "execute_result"
    }
   ],
   "source": [
    "Counter(G.istycho * np.logical_not(G.isgaia))"
   ]
  },
  {
   "cell_type": "code",
   "execution_count": 20,
   "metadata": {},
   "outputs": [],
   "source": [
    "G.delete_column('source_id')"
   ]
  },
  {
   "cell_type": "code",
   "execution_count": 21,
   "metadata": {},
   "outputs": [
    {
     "data": {
      "text/plain": [
       "Counter({False: 36143736})"
      ]
     },
     "execution_count": 21,
     "metadata": {},
     "output_type": "execute_result"
    }
   ],
   "source": [
    "Counter(G.duplicated_source)"
   ]
  },
  {
   "cell_type": "code",
   "execution_count": 22,
   "metadata": {},
   "outputs": [
    {
     "data": {
      "image/png": "[encoded data removed]",
      "text/plain": [
       "<matplotlib.figure.Figure at 0x2aaca0fcef60>"
      ]
     },
     "metadata": {
      "needs_background": "light"
     },
     "output_type": "display_data"
    }
   ],
   "source": [
    "plt.plot(G.radius, G.radius_pix, 'b.');"
   ]
  },
  {
   "cell_type": "code",
   "execution_count": 22,
   "metadata": {},
   "outputs": [
    {
     "data": {
      "text/plain": [
       "Counter({True: 36143736})"
      ]
     },
     "execution_count": 22,
     "metadata": {},
     "output_type": "execute_result"
    }
   ],
   "source": [
    "Counter(G.in_bounds)"
   ]
  },
  {
   "cell_type": "code",
   "execution_count": 23,
   "metadata": {},
   "outputs": [
    {
     "data": {
      "text/plain": [
       "Counter({False: 36143736})"
      ]
     },
     "execution_count": 23,
     "metadata": {},
     "output_type": "execute_result"
    }
   ],
   "source": [
    "Counter(G.islargegalaxy)"
   ]
  },
  {
   "cell_type": "code",
   "execution_count": 25,
   "metadata": {},
   "outputs": [
    {
     "data": {
      "text/plain": [
       "Counter({False: 33941026})"
      ]
     },
     "execution_count": 25,
     "metadata": {},
     "output_type": "execute_result"
    }
   ],
   "source": [
    "Counter(G.iscluster)"
   ]
  },
  {
   "cell_type": "code",
   "execution_count": 26,
   "metadata": {},
   "outputs": [
    {
     "data": {
      "text/plain": [
       "Counter({False: 33941026})"
      ]
     },
     "execution_count": 26,
     "metadata": {},
     "output_type": "execute_result"
    }
   ],
   "source": [
    "Counter(G.freezeparams)"
   ]
  },
  {
   "cell_type": "code",
   "execution_count": 27,
   "metadata": {},
   "outputs": [
    {
     "data": {
      "text/plain": [
       "Counter({True: 33941026})"
      ]
     },
     "execution_count": 27,
     "metadata": {},
     "output_type": "execute_result"
    }
   ],
   "source": [
    "Counter(G.pa == 0.)"
   ]
  },
  {
   "cell_type": "code",
   "execution_count": 28,
   "metadata": {},
   "outputs": [
    {
     "data": {
      "text/plain": [
       "Counter({True: 33941026})"
      ]
     },
     "execution_count": 28,
     "metadata": {},
     "output_type": "execute_result"
    }
   ],
   "source": [
    "Counter(G.ba == 0.)"
   ]
  },
  {
   "cell_type": "code",
   "execution_count": 24,
   "metadata": {},
   "outputs": [],
   "source": [
    "for c in ['in_bounds', 'islargegalaxy', 'iscluster', 'freezeparams', 'pa', 'ba']:\n",
    "    G.delete_column(c)"
   ]
  },
  {
   "cell_type": "code",
   "execution_count": 25,
   "metadata": {},
   "outputs": [],
   "source": [
    "G.delete_column('keep_radius')"
   ]
  },
  {
   "cell_type": "code",
   "execution_count": 36,
   "metadata": {},
   "outputs": [
    {
     "name": "stdout",
     "output_type": "stream",
     "text": [
      "tabledata object with 36143736 rows and 48 columns:\n",
      "   brickname (<class 'numpy.ndarray'>) shape (36143736,) dtype <U8\n",
      "   dec (<class 'numpy.ndarray'>) shape (36143736,) dtype >f8\n",
      "   dec_ivar (<class 'numpy.ndarray'>) shape (36143736,) dtype >f4\n",
      "   decam_mag_g (<class 'numpy.ndarray'>) shape (36143736,) dtype >f4\n",
      "   decam_mag_i (<class 'numpy.ndarray'>) shape (36143736,) dtype >f4\n",
      "   decam_mag_r (<class 'numpy.ndarray'>) shape (36143736,) dtype >f4\n",
      "   decam_mag_z (<class 'numpy.ndarray'>) shape (36143736,) dtype >f4\n",
      "   donotfit (<class 'numpy.ndarray'>) shape (36143736,) dtype bool\n",
      "   gaia_astrometric_excess_noise (<class 'numpy.ndarray'>) shape (36143736,) dtype >f4\n",
      "   gaia_astrometric_excess_noise_sig (<class 'numpy.ndarray'>) shape (36143736,) dtype >f4\n",
      "   gaia_astrometric_params_solved (<class 'numpy.ndarray'>) shape (36143736,) dtype uint8\n",
      "   gaia_astrometric_sigma5d_max (<class 'numpy.ndarray'>) shape (36143736,) dtype >f4\n",
      "   gaia_duplicated_source (<class 'numpy.ndarray'>) shape (36143736,) dtype bool\n",
      "   gaia_phot_bp_mean_flux_over_error (<class 'numpy.ndarray'>) shape (36143736,) dtype >f4\n",
      "   gaia_phot_bp_mean_mag (<class 'numpy.ndarray'>) shape (36143736,) dtype >f4\n",
      "   gaia_phot_bp_rp_excess_factor (<class 'numpy.ndarray'>) shape (36143736,) dtype >f4\n",
      "   gaia_phot_g_mean_flux_over_error (<class 'numpy.ndarray'>) shape (36143736,) dtype >f4\n",
      "   gaia_phot_g_mean_mag (<class 'numpy.ndarray'>) shape (36143736,) dtype >f4\n",
      "   gaia_phot_g_n_obs (<class 'numpy.ndarray'>) shape (36143736,) dtype >i4\n",
      "   gaia_phot_rp_mean_flux_over_error (<class 'numpy.ndarray'>) shape (36143736,) dtype >f4\n",
      "   gaia_phot_rp_mean_mag (<class 'numpy.ndarray'>) shape (36143736,) dtype >f4\n",
      "   ggguess (<class 'numpy.ndarray'>) shape (36143736,) dtype >f8\n",
      "   ibx (<class 'numpy.ndarray'>) shape (36143736,) dtype >i4\n",
      "   iby (<class 'numpy.ndarray'>) shape (36143736,) dtype >i4\n",
      "   ipd_frac_multi_peak (<class 'numpy.ndarray'>) shape (36143736,) dtype int8\n",
      "   ipd_gof_harmonic_amplitude (<class 'numpy.ndarray'>) shape (36143736,) dtype >f4\n",
      "   isbright (<class 'numpy.ndarray'>) shape (36143736,) dtype bool\n",
      "   isgaia (<class 'numpy.ndarray'>) shape (36143736,) dtype bool\n",
      "   ismedium (<class 'numpy.ndarray'>) shape (36143736,) dtype bool\n",
      "   istycho (<class 'numpy.ndarray'>) shape (36143736,) dtype bool\n",
      "   mag (<class 'numpy.ndarray'>) shape (36143736,) dtype >f4\n",
      "   mask_mag (<class 'numpy.ndarray'>) shape (36143736,) dtype >f4\n",
      "   parallax (<class 'numpy.ndarray'>) shape (36143736,) dtype >f4\n",
      "   parallax_ivar (<class 'numpy.ndarray'>) shape (36143736,) dtype >f4\n",
      "   pmdec (<class 'numpy.ndarray'>) shape (36143736,) dtype >f4\n",
      "   pmdec_ivar (<class 'numpy.ndarray'>) shape (36143736,) dtype >f4\n",
      "   pmra (<class 'numpy.ndarray'>) shape (36143736,) dtype >f4\n",
      "   pmra_ivar (<class 'numpy.ndarray'>) shape (36143736,) dtype >f4\n",
      "   pointsource (<class 'numpy.ndarray'>) shape (36143736,) dtype bool\n",
      "   ra (<class 'numpy.ndarray'>) shape (36143736,) dtype >f8\n",
      "   ra_ivar (<class 'numpy.ndarray'>) shape (36143736,) dtype >f4\n",
      "   radius (<class 'numpy.ndarray'>) shape (36143736,) dtype >f4\n",
      "   radius_pix (<class 'numpy.ndarray'>) shape (36143736,) dtype >i8\n",
      "   ref_cat (<class 'numpy.ndarray'>) shape (36143736,) dtype <U2\n",
      "   ref_epoch (<class 'numpy.ndarray'>) shape (36143736,) dtype >f4\n",
      "   ref_id (<class 'numpy.ndarray'>) shape (36143736,) dtype >i8\n",
      "   ruwe (<class 'numpy.ndarray'>) shape (36143736,) dtype >f4\n",
      "   zguess (<class 'numpy.ndarray'>) shape (36143736,) dtype >f4\n"
     ]
    }
   ],
   "source": [
    "G.about()"
   ]
  },
  {
   "cell_type": "code",
   "execution_count": 37,
   "metadata": {},
   "outputs": [
    {
     "name": "stdout",
     "output_type": "stream",
     "text": [
      "skip phot_g_mean_mag\n",
      "skip phot_g_mean_flux_over_error\n",
      "skip phot_g_n_obs\n",
      "skip phot_bp_mean_mag\n",
      "skip phot_bp_mean_flux_over_error\n",
      "skip phot_rp_mean_mag\n",
      "skip phot_rp_mean_flux_over_error\n",
      "skip astrometric_excess_noise\n",
      "skip astrometric_excess_noise_sig\n",
      "skip duplicated_source\n",
      "skip phot_bp_rp_excess_factor\n",
      "skip astrometric_sigma5d_max\n",
      "skip astrometric_params_solved\n"
     ]
    }
   ],
   "source": [
    "gaiacols = ['phot_g_mean_mag', 'phot_g_mean_flux_over_error', 'phot_g_n_obs', 'phot_bp_mean_mag', 'phot_bp_mean_flux_over_error',\n",
    "          #'phot_bp_n_obs',\n",
    "            'phot_rp_mean_mag', 'phot_rp_mean_flux_over_error',\n",
    "            #'phot_rp_n_obs',\n",
    "            #'phot_variable_flag',\n",
    "          'astrometric_excess_noise', 'astrometric_excess_noise_sig',\n",
    "            #'astrometric_n_obs_al', 'astrometric_n_good_obs_al',\n",
    "          #'astrometric_weight_al',\n",
    "            'duplicated_source',\n",
    "            #'a_g_val', 'e_bp_min_rp_val',\n",
    "            'phot_bp_rp_excess_factor',\n",
    "          'astrometric_sigma5d_max', 'astrometric_params_solved',\n",
    "           'ipd_frac_multi_peak', 'ipd_gof_harmonic_amplitude', 'ruwe']\n",
    "for c in gaiacols:\n",
    "    # HACK\n",
    "    if 'gaia_'+c in G.get_columns():\n",
    "        print('skip', c)\n",
    "        continue\n",
    "    G.rename(c, 'gaia_'+c)"
   ]
  },
  {
   "cell_type": "code",
   "execution_count": null,
   "metadata": {},
   "outputs": [],
   "source": [
    "# Column ordering\n",
    "cols = ('ra dec ref_cat ref_id ref_epoch mag mask_mag radius radius_pix '\n",
    "        + 'pmra pmdec parallax ra_ivar dec_ivar pmra_ivar pmdec_ivar parallax_ivar '\n",
    "        + 'istycho isgaia isbright ismedium pointsource donotfit '\n",
    "        + 'decam_mag_g decam_mag_r decam_mag_i decam_mag_z zguess '\n",
    "        + 'brickname ibx iby').split()\n",
    "cols += ['gaia_'+c for c in gaiacols]"
   ]
  },
  {
   "cell_type": "code",
   "execution_count": null,
   "metadata": {},
   "outputs": [],
   "source": [
    "units = get_units_for_columns(cols, '', extras=dict(radius='deg'))"
   ]
  },
  {
   "cell_type": "code",
   "execution_count": 34,
   "metadata": {},
   "outputs": [],
   "source": [
    "#G.writeto('/global/cscratch1/sd/dstn/gaia-mask-dr9-fixed.fits', columns=cols, units=units)"
   ]
  },
  {
   "cell_type": "code",
   "execution_count": 50,
   "metadata": {},
   "outputs": [],
   "source": [
    "from astrometry.util.plotutils import loghist,plothist"
   ]
  },
  {
   "cell_type": "code",
   "execution_count": 51,
   "metadata": {},
   "outputs": [
    {
     "data": {
      "image/png": "[encoded data removed]",
      "text/plain": [
       "<matplotlib.figure.Figure at 0x1555226eccf8>"
      ]
     },
     "metadata": {
      "needs_background": "light"
     },
     "output_type": "display_data"
    }
   ],
   "source": [
    "plothist(G.ra, G.dec);"
   ]
  },
  {
   "cell_type": "code",
   "execution_count": 52,
   "metadata": {},
   "outputs": [
    {
     "data": {
      "text/plain": [
       "36143736"
      ]
     },
     "execution_count": 52,
     "metadata": {},
     "output_type": "execute_result"
    }
   ],
   "source": [
    "len(G)"
   ]
  },
  {
   "cell_type": "code",
   "execution_count": 41,
   "metadata": {},
   "outputs": [],
   "source": [
    "home = os.environ['HOME']+'/'\n",
    "sys.path.append(home + 'desimodel/py')\n",
    "sys.path.append(home + 'desiutil/py')"
   ]
  },
  {
   "cell_type": "code",
   "execution_count": 46,
   "metadata": {},
   "outputs": [],
   "source": [
    "os.environ['DESIMODEL'] = home + 'desimodel-data-0.17.0'"
   ]
  },
  {
   "cell_type": "code",
   "execution_count": 47,
   "metadata": {},
   "outputs": [],
   "source": [
    "from desimodel.footprint import is_point_in_desi\n",
    "from desimodel.io import load_tiles"
   ]
  },
  {
   "cell_type": "code",
   "execution_count": 48,
   "metadata": {},
   "outputs": [],
   "source": [
    "desitiles = load_tiles()"
   ]
  },
  {
   "cell_type": "code",
   "execution_count": 54,
   "metadata": {},
   "outputs": [],
   "source": [
    "# Shortcut: assume in_desi is only above Dec=-30\n",
    "G.in_desi = np.zeros(len(G), bool)\n",
    "Icheck = np.flatnonzero(G.dec > -30)\n",
    "G.in_desi[Icheck] = is_point_in_desi(desitiles, G.ra[Icheck], G.dec[Icheck])"
   ]
  },
  {
   "cell_type": "code",
   "execution_count": 55,
   "metadata": {},
   "outputs": [],
   "source": [
    "#G.in_desi = is_point_in_desi(desitiles, G.ra, G.dec)"
   ]
  },
  {
   "cell_type": "code",
   "execution_count": 56,
   "metadata": {},
   "outputs": [
    {
     "data": {
      "image/png": "[encoded data removed]",
      "text/plain": [
       "<matplotlib.figure.Figure at 0x1554cdb98ac8>"
      ]
     },
     "metadata": {
      "needs_background": "light"
     },
     "output_type": "display_data"
    }
   ],
   "source": [
    "plt.plot(G.ra, G.dec, 'r.')\n",
    "plt.plot(G.ra[G.in_desi], G.dec[G.in_desi], 'b.');"
   ]
  },
  {
   "cell_type": "code",
   "execution_count": 57,
   "metadata": {},
   "outputs": [],
   "source": [
    "cols = ('ra dec ref_cat ref_id ref_epoch mag mask_mag radius radius_pix '\n",
    "        + 'pmra pmdec parallax ra_ivar dec_ivar pmra_ivar pmdec_ivar parallax_ivar '\n",
    "        + 'in_desi '\n",
    "        + 'istycho isgaia isbright ismedium pointsource donotfit '\n",
    "        + 'decam_mag_g decam_mag_r decam_mag_i decam_mag_z zguess '\n",
    "        + 'brickname ibx iby').split()\n",
    "cols += ['gaia_'+c for c in gaiacols]\n",
    "units = get_units_for_columns(cols, '', extras=dict(radius='deg'))\n",
    "G.writeto('/global/cscratch1/sd/dstn/gaia-mask-dr10-fixed.fits', columns=cols, units=units)"
   ]
  },
  {
   "cell_type": "code",
   "execution_count": null,
   "metadata": {},
   "outputs": [],
   "source": []
  },
  {
   "cell_type": "code",
   "execution_count": null,
   "metadata": {},
   "outputs": [],
   "source": []
  },
  {
   "cell_type": "code",
   "execution_count": null,
   "metadata": {},
   "outputs": [],
   "source": []
  },
  {
   "cell_type": "code",
   "execution_count": 58,
   "metadata": {},
   "outputs": [],
   "source": [
    "G9 = fits_table('/global/cfs/cdirs/cosmo/data/legacysurvey/dr9/masking/gaia-mask-dr9.fits.gz')"
   ]
  },
  {
   "cell_type": "code",
   "execution_count": 59,
   "metadata": {},
   "outputs": [
    {
     "data": {
      "image/png": "[encoded data removed]",
      "text/plain": [
       "<matplotlib.figure.Figure at 0x15548673bcc0>"
      ]
     },
     "metadata": {
      "needs_background": "light"
     },
     "output_type": "display_data"
    }
   ],
   "source": [
    "plothist(G9.ra, G9.dec);"
   ]
  },
  {
   "cell_type": "code",
   "execution_count": 60,
   "metadata": {},
   "outputs": [
    {
     "data": {
      "text/plain": [
       "(12701109, 36143736)"
      ]
     },
     "execution_count": 60,
     "metadata": {},
     "output_type": "execute_result"
    }
   ],
   "source": [
    "len(G9), len(G)"
   ]
  },
  {
   "cell_type": "code",
   "execution_count": null,
   "metadata": {},
   "outputs": [],
   "source": []
  }
 ],
 "metadata": {
  "kernelspec": {
   "display_name": "dstn",
   "language": "python",
   "name": "dstn"
  },
  "language_info": {
   "codemirror_mode": {
    "name": "ipython",
    "version": 3
   },
   "file_extension": ".py",
   "mimetype": "text/x-python",
   "name": "python",
   "nbconvert_exporter": "python",
   "pygments_lexer": "ipython3",
   "version": "3.6.6"
  }
 },
 "nbformat": 4,
 "nbformat_minor": 4
}
